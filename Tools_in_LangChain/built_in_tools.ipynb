{
 "cells": [
  {
   "cell_type": "markdown",
   "id": "1ccc914d",
   "metadata": {},
   "source": [
    "# Built-in Tool - DuckDuckGo Search"
   ]
  },
  {
   "cell_type": "code",
   "execution_count": 1,
   "id": "0919c279",
   "metadata": {},
   "outputs": [],
   "source": [
    "from langchain_community.tools import DuckDuckGoSearchRun\n"
   ]
  },
  {
   "cell_type": "code",
   "execution_count": 2,
   "id": "95d1db74",
   "metadata": {},
   "outputs": [],
   "source": [
    "search_tool = DuckDuckGoSearchRun()"
   ]
  },
  {
   "cell_type": "code",
   "execution_count": 3,
   "id": "3df9542e",
   "metadata": {},
   "outputs": [
    {
     "name": "stderr",
     "output_type": "stream",
     "text": [
      "C:\\Users\\PMLS\\AppData\\Local\\Temp\\ipykernel_11520\\3996860417.py:1: LangChainDeprecationWarning: The method `BaseTool.__call__` was deprecated in langchain-core 0.1.47 and will be removed in 1.0. Use :meth:`~invoke` instead.\n",
      "  results = search_tool(\"PSL News\")\n"
     ]
    }
   ],
   "source": [
    "results = search_tool(\"PSL News\")"
   ]
  },
  {
   "cell_type": "code",
   "execution_count": 4,
   "id": "ec45adf8",
   "metadata": {},
   "outputs": [
    {
     "name": "stdout",
     "output_type": "stream",
     "text": [
      "Islamabad United vs. Lahore Qalandars, PSL 2025 match start time: Here's how to watch the Pakistan Super League 2025 match on TV and live stream in the USA. The Sporting News takes you through ... Multan Sultans lead Quetta Gladiators 9 to 4 in head-to-head stats in PSL. ... Explore News. Stock Market LIVE Updates Stocks to Watch Today Ather Energy IPO Ambuja Cements Results 2025 Gold-Silver Price Today Arunaya Organics IPO HPBOSE 12th Result Q4 Results Today IPL 2025 Point Table Upcoming IPO 2025. PSL 2025 Match 16: Lahore Qalandars vs Multan Sultans - Preview, Head to Head and Possible XI 11:57 pm | Apr 25, 2025 PSL 2025 Standings After Gladiators Beat Kings in a Thriller Get the latest Pakistan Super League live score, news, live match updates and ball by ball Commentary. Follow Sportskeeda for the latest Pakistan Super League 2025 results, stats and match preview. PSL: Faheem Ashraf's five-wicket haul leads Gladiators to dominant 64-run win. Medium-pacer shines as Peshawar Zalmi's chase collapses for 114\n"
     ]
    }
   ],
   "source": [
    "print(results)"
   ]
  },
  {
   "cell_type": "markdown",
   "id": "358c7f33",
   "metadata": {},
   "source": [
    "## Built in Tool - Shell Tool"
   ]
  },
  {
   "cell_type": "code",
   "execution_count": 2,
   "id": "e2faf6d8",
   "metadata": {},
   "outputs": [
    {
     "name": "stdout",
     "output_type": "stream",
     "text": [
      "Executing command:\n",
      " whoami\n",
      "moona\\pmyls\n",
      "\n"
     ]
    },
    {
     "name": "stderr",
     "output_type": "stream",
     "text": [
      "e:\\HashimEdisk\\PracticeAndProjects\\LangChain\\langchain_env\\Lib\\site-packages\\langchain_community\\tools\\shell\\tool.py:33: UserWarning: The shell tool has no safeguards by default. Use at your own risk.\n",
      "  warnings.warn(\n"
     ]
    }
   ],
   "source": [
    "from langchain_community.tools import ShellTool\n",
    "\n",
    "shell_tool = ShellTool()\n",
    "\n",
    "results = shell_tool.run(\"whoami\")\n",
    "\n",
    "print(results)"
   ]
  },
  {
   "cell_type": "code",
   "execution_count": null,
   "id": "297f57a0",
   "metadata": {},
   "outputs": [],
   "source": []
  }
 ],
 "metadata": {
  "kernelspec": {
   "display_name": "langchain_env",
   "language": "python",
   "name": "python3"
  },
  "language_info": {
   "codemirror_mode": {
    "name": "ipython",
    "version": 3
   },
   "file_extension": ".py",
   "mimetype": "text/x-python",
   "name": "python",
   "nbconvert_exporter": "python",
   "pygments_lexer": "ipython3",
   "version": "3.11.7"
  }
 },
 "nbformat": 4,
 "nbformat_minor": 5
}
