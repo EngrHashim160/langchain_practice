{
 "cells": [
  {
   "cell_type": "markdown",
   "id": "86251028",
   "metadata": {},
   "source": [
    "## Custom Tools"
   ]
  },
  {
   "cell_type": "markdown",
   "id": "dbe8f200",
   "metadata": {},
   "source": [
    "### Method 1: Using @tool decorator"
   ]
  },
  {
   "cell_type": "code",
   "execution_count": 1,
   "metadata": {},
   "outputs": [],
   "source": [
    "from langchain_core.tools import tool"
   ]
  },
  {
   "cell_type": "code",
   "execution_count": null,
   "metadata": {},
   "outputs": [],
   "source": [
    "# step 1 - create a function\n",
    "def division(a, b):\n",
    "    \"\"\"Divide two numbers\"\"\"\n",
    "    return a / b\n"
   ]
  },
  {
   "cell_type": "code",
   "execution_count": 3,
   "id": "24e746b1",
   "metadata": {},
   "outputs": [],
   "source": [
    "# step 2 - add type hints\n",
    "def division(a:float, b: float) -> float:\n",
    "    \"\"\"Divide two numbers\"\"\"\n",
    "    return a / b\n"
   ]
  },
  {
   "cell_type": "code",
   "execution_count": 4,
   "id": "b59f431f",
   "metadata": {},
   "outputs": [],
   "source": [
    "# step 3 - add tool operator\n",
    "@tool\n",
    "def division(a:float, b: float) -> float:\n",
    "    \"\"\"Divide two numbers\"\"\"\n",
    "    return a / b\n",
    "\n"
   ]
  },
  {
   "cell_type": "code",
   "execution_count": 5,
   "id": "9d3e155a",
   "metadata": {},
   "outputs": [],
   "source": [
    "result = division.invoke({\"a\": 10, \"b\": 2})"
   ]
  },
  {
   "cell_type": "code",
   "execution_count": 6,
   "id": "b0142788",
   "metadata": {},
   "outputs": [
    {
     "name": "stdout",
     "output_type": "stream",
     "text": [
      "5.0\n"
     ]
    }
   ],
   "source": [
    "print(result)"
   ]
  },
  {
   "cell_type": "code",
   "execution_count": 7,
   "id": "da8c6479",
   "metadata": {},
   "outputs": [
    {
     "name": "stdout",
     "output_type": "stream",
     "text": [
      "division\n",
      "Divide two numbers\n",
      "{'a': {'title': 'A', 'type': 'number'}, 'b': {'title': 'B', 'type': 'number'}}\n"
     ]
    }
   ],
   "source": [
    "print(division.name)\n",
    "print(division.description)\n",
    "print(division.args)"
   ]
  },
  {
   "cell_type": "code",
   "execution_count": 8,
   "id": "fe27aeb6",
   "metadata": {},
   "outputs": [
    {
     "name": "stdout",
     "output_type": "stream",
     "text": [
      "{'description': 'Divide two numbers', 'properties': {'a': {'title': 'A', 'type': 'number'}, 'b': {'title': 'B', 'type': 'number'}}, 'required': ['a', 'b'], 'title': 'division', 'type': 'object'}\n"
     ]
    }
   ],
   "source": [
    "print(division.args_schema.model_json_schema())\n"
   ]
  },
  {
   "cell_type": "markdown",
   "id": "fb23919b",
   "metadata": {},
   "source": [
    "### Method 2: using StructuredTool & Pydantic"
   ]
  },
  {
   "cell_type": "code",
   "execution_count": 9,
   "id": "6dd2890b",
   "metadata": {},
   "outputs": [],
   "source": [
    "from langchain.tools import StructuredTool\n",
    "from pydantic import BaseModel, Field"
   ]
  },
  {
   "cell_type": "code",
   "execution_count": 12,
   "id": "f8e4df68",
   "metadata": {},
   "outputs": [],
   "source": [
    "class DivisionInput(BaseModel):\n",
    "    a: float = Field(required=True, description=\"The first number\")\n",
    "    b: float = Field(required=True, description=\"The second number\")"
   ]
  },
  {
   "cell_type": "code",
   "execution_count": null,
   "id": "fb65c4d1",
   "metadata": {},
   "outputs": [],
   "source": [
    "def division_func(a: float, b: float) -> float:\n",
    "    return a / b\n"
   ]
  },
  {
   "cell_type": "code",
   "execution_count": 13,
   "id": "7888283d",
   "metadata": {},
   "outputs": [],
   "source": [
    "division_tool = StructuredTool.from_function(\n",
    "    func=division_func,\n",
    "    name=\"division\",\n",
    "    description=\"Divide two numbers\",\n",
    "    args_schema=DivisionInput,\n",
    ")"
   ]
  },
  {
   "cell_type": "code",
   "execution_count": 14,
   "id": "f7630e6e",
   "metadata": {},
   "outputs": [
    {
     "name": "stdout",
     "output_type": "stream",
     "text": [
      "5.0\n"
     ]
    }
   ],
   "source": [
    "result = division_tool.invoke({\"a\": 10, \"b\": 2})\n",
    "\n",
    "print(result)"
   ]
  },
  {
   "cell_type": "code",
   "execution_count": 17,
   "id": "3a874705",
   "metadata": {},
   "outputs": [
    {
     "name": "stdout",
     "output_type": "stream",
     "text": [
      "division\n",
      "Divide two numbers\n",
      "{'a': {'description': 'The first number', 'required': True, 'title': 'A', 'type': 'number'}, 'b': {'description': 'The second number', 'required': True, 'title': 'B', 'type': 'number'}}\n"
     ]
    }
   ],
   "source": [
    "print(division_tool.name)\n",
    "print(division_tool.description)\n",
    "print(division_tool.args)"
   ]
  },
  {
   "cell_type": "code",
   "execution_count": 15,
   "id": "2be323a6",
   "metadata": {},
   "outputs": [
    {
     "name": "stdout",
     "output_type": "stream",
     "text": [
      "{'properties': {'a': {'description': 'The first number', 'required': True, 'title': 'A', 'type': 'number'}, 'b': {'description': 'The second number', 'required': True, 'title': 'B', 'type': 'number'}}, 'required': ['a', 'b'], 'title': 'DivisionInput', 'type': 'object'}\n"
     ]
    }
   ],
   "source": [
    "print(division_tool.args_schema.model_json_schema())"
   ]
  },
  {
   "cell_type": "markdown",
   "id": "76ef5ecb",
   "metadata": {},
   "source": [
    "### Method 3: Using BaseTool Class"
   ]
  },
  {
   "cell_type": "code",
   "execution_count": 18,
   "id": "9f7c1cd4",
   "metadata": {},
   "outputs": [],
   "source": [
    "from langchain.tools import BaseTool\n",
    "from typing import Type"
   ]
  },
  {
   "cell_type": "code",
   "execution_count": 22,
   "id": "4477ae12",
   "metadata": {},
   "outputs": [],
   "source": [
    "# arg schema using pydantic\n",
    "class MultiplyInput(BaseModel):\n",
    "    a: float = Field(required=True, description=\"The first number\")\n",
    "    b: float = Field(required=True, description=\"The second number\")"
   ]
  },
  {
   "cell_type": "code",
   "execution_count": 23,
   "id": "e621296d",
   "metadata": {},
   "outputs": [
    {
     "ename": "PydanticUserError",
     "evalue": "Field 'name' defined on a base class was overridden by a non-annotated attribute. All field definitions, including overrides, require a type annotation.\n\nFor further information visit https://errors.pydantic.dev/2.10/u/model-field-overridden",
     "output_type": "error",
     "traceback": [
      "\u001b[1;31m---------------------------------------------------------------------------\u001b[0m",
      "\u001b[1;31mPydanticUserError\u001b[0m                         Traceback (most recent call last)",
      "Cell \u001b[1;32mIn[23], line 1\u001b[0m\n\u001b[1;32m----> 1\u001b[0m \u001b[38;5;28;43;01mclass\u001b[39;49;00m\u001b[38;5;250;43m \u001b[39;49m\u001b[38;5;21;43;01mMultiplyTool\u001b[39;49;00m\u001b[43m(\u001b[49m\u001b[43mBaseTool\u001b[49m\u001b[43m)\u001b[49m\u001b[43m:\u001b[49m\n\u001b[0;32m      2\u001b[0m \u001b[43m    \u001b[49m\u001b[43mname\u001b[49m\u001b[43m \u001b[49m\u001b[38;5;241;43m=\u001b[39;49m\u001b[43m \u001b[49m\u001b[38;5;124;43m\"\u001b[39;49m\u001b[38;5;124;43mmultiply\u001b[39;49m\u001b[38;5;124;43m\"\u001b[39;49m\n\u001b[0;32m      3\u001b[0m \u001b[43m    \u001b[49m\u001b[43mdescription\u001b[49m\u001b[43m \u001b[49m\u001b[38;5;241;43m=\u001b[39;49m\u001b[43m \u001b[49m\u001b[38;5;124;43m\"\u001b[39;49m\u001b[38;5;124;43mMultiply two numbers\u001b[39;49m\u001b[38;5;124;43m\"\u001b[39;49m\n",
      "File \u001b[1;32me:\\HashimEdisk\\PracticeAndProjects\\LangChain\\langchain_env\\Lib\\site-packages\\pydantic\\_internal\\_model_construction.py:113\u001b[0m, in \u001b[0;36mModelMetaclass.__new__\u001b[1;34m(mcs, cls_name, bases, namespace, __pydantic_generic_metadata__, __pydantic_reset_parent_namespace__, _create_model_module, **kwargs)\u001b[0m\n\u001b[0;32m    111\u001b[0m config_wrapper \u001b[38;5;241m=\u001b[39m ConfigWrapper\u001b[38;5;241m.\u001b[39mfor_model(bases, namespace, kwargs)\n\u001b[0;32m    112\u001b[0m namespace[\u001b[38;5;124m'\u001b[39m\u001b[38;5;124mmodel_config\u001b[39m\u001b[38;5;124m'\u001b[39m] \u001b[38;5;241m=\u001b[39m config_wrapper\u001b[38;5;241m.\u001b[39mconfig_dict\n\u001b[1;32m--> 113\u001b[0m private_attributes \u001b[38;5;241m=\u001b[39m \u001b[43minspect_namespace\u001b[49m\u001b[43m(\u001b[49m\n\u001b[0;32m    114\u001b[0m \u001b[43m    \u001b[49m\u001b[43mnamespace\u001b[49m\u001b[43m,\u001b[49m\u001b[43m \u001b[49m\u001b[43mconfig_wrapper\u001b[49m\u001b[38;5;241;43m.\u001b[39;49m\u001b[43mignored_types\u001b[49m\u001b[43m,\u001b[49m\u001b[43m \u001b[49m\u001b[43mclass_vars\u001b[49m\u001b[43m,\u001b[49m\u001b[43m \u001b[49m\u001b[43mbase_field_names\u001b[49m\n\u001b[0;32m    115\u001b[0m \u001b[43m\u001b[49m\u001b[43m)\u001b[49m\n\u001b[0;32m    116\u001b[0m \u001b[38;5;28;01mif\u001b[39;00m private_attributes \u001b[38;5;129;01mor\u001b[39;00m base_private_attributes:\n\u001b[0;32m    117\u001b[0m     original_model_post_init \u001b[38;5;241m=\u001b[39m get_model_post_init(namespace, bases)\n",
      "File \u001b[1;32me:\\HashimEdisk\\PracticeAndProjects\\LangChain\\langchain_env\\Lib\\site-packages\\pydantic\\_internal\\_model_construction.py:440\u001b[0m, in \u001b[0;36minspect_namespace\u001b[1;34m(namespace, ignored_types, base_class_vars, base_class_fields)\u001b[0m\n\u001b[0;32m    438\u001b[0m \u001b[38;5;28;01melif\u001b[39;00m var_name \u001b[38;5;129;01mnot\u001b[39;00m \u001b[38;5;129;01min\u001b[39;00m raw_annotations:\n\u001b[0;32m    439\u001b[0m     \u001b[38;5;28;01mif\u001b[39;00m var_name \u001b[38;5;129;01min\u001b[39;00m base_class_fields:\n\u001b[1;32m--> 440\u001b[0m         \u001b[38;5;28;01mraise\u001b[39;00m PydanticUserError(\n\u001b[0;32m    441\u001b[0m             \u001b[38;5;124mf\u001b[39m\u001b[38;5;124m'\u001b[39m\u001b[38;5;124mField \u001b[39m\u001b[38;5;132;01m{\u001b[39;00mvar_name\u001b[38;5;132;01m!r}\u001b[39;00m\u001b[38;5;124m defined on a base class was overridden by a non-annotated attribute. \u001b[39m\u001b[38;5;124m'\u001b[39m\n\u001b[0;32m    442\u001b[0m             \u001b[38;5;124mf\u001b[39m\u001b[38;5;124m'\u001b[39m\u001b[38;5;124mAll field definitions, including overrides, require a type annotation.\u001b[39m\u001b[38;5;124m'\u001b[39m,\n\u001b[0;32m    443\u001b[0m             code\u001b[38;5;241m=\u001b[39m\u001b[38;5;124m'\u001b[39m\u001b[38;5;124mmodel-field-overridden\u001b[39m\u001b[38;5;124m'\u001b[39m,\n\u001b[0;32m    444\u001b[0m         )\n\u001b[0;32m    445\u001b[0m     \u001b[38;5;28;01melif\u001b[39;00m \u001b[38;5;28misinstance\u001b[39m(value, FieldInfo):\n\u001b[0;32m    446\u001b[0m         \u001b[38;5;28;01mraise\u001b[39;00m PydanticUserError(\n\u001b[0;32m    447\u001b[0m             \u001b[38;5;124mf\u001b[39m\u001b[38;5;124m'\u001b[39m\u001b[38;5;124mField \u001b[39m\u001b[38;5;132;01m{\u001b[39;00mvar_name\u001b[38;5;132;01m!r}\u001b[39;00m\u001b[38;5;124m requires a type annotation\u001b[39m\u001b[38;5;124m'\u001b[39m, code\u001b[38;5;241m=\u001b[39m\u001b[38;5;124m'\u001b[39m\u001b[38;5;124mmodel-field-missing-annotation\u001b[39m\u001b[38;5;124m'\u001b[39m\n\u001b[0;32m    448\u001b[0m         )\n",
      "\u001b[1;31mPydanticUserError\u001b[0m: Field 'name' defined on a base class was overridden by a non-annotated attribute. All field definitions, including overrides, require a type annotation.\n\nFor further information visit https://errors.pydantic.dev/2.10/u/model-field-overridden"
     ]
    }
   ],
   "source": [
    "class MultiplyTool(BaseTool):\n",
    "    name = \"multiply\"\n",
    "    description = \"Multiply two numbers\"\n",
    "    args_schema: Type[BaseModel] = MultiplyInput\n",
    "\n",
    "    def _run(self, a: float, b: float) -> float:\n",
    "        return a * b"
   ]
  },
  {
   "cell_type": "code",
   "execution_count": 24,
   "id": "e51f3da4",
   "metadata": {},
   "outputs": [
    {
     "ename": "NameError",
     "evalue": "name 'MultiplyTool' is not defined",
     "output_type": "error",
     "traceback": [
      "\u001b[1;31m---------------------------------------------------------------------------\u001b[0m",
      "\u001b[1;31mNameError\u001b[0m                                 Traceback (most recent call last)",
      "Cell \u001b[1;32mIn[24], line 1\u001b[0m\n\u001b[1;32m----> 1\u001b[0m multiply_tool \u001b[38;5;241m=\u001b[39m \u001b[43mMultiplyTool\u001b[49m()\n",
      "\u001b[1;31mNameError\u001b[0m: name 'MultiplyTool' is not defined"
     ]
    }
   ],
   "source": [
    "multiply_tool = MultiplyTool()"
   ]
  },
  {
   "cell_type": "code",
   "execution_count": null,
   "id": "2dd98f76",
   "metadata": {},
   "outputs": [],
   "source": [
    "print(multiply_tool.name)\n",
    "print(multiply_tool.description)\n",
    "print(multiply_tool.args)"
   ]
  }
 ],
 "metadata": {
  "kernelspec": {
   "display_name": "langchain_env",
   "language": "python",
   "name": "python3"
  },
  "language_info": {
   "codemirror_mode": {
    "name": "ipython",
    "version": 3
   },
   "file_extension": ".py",
   "mimetype": "text/x-python",
   "name": "python",
   "nbconvert_exporter": "python",
   "pygments_lexer": "ipython3",
   "version": "3.11.7"
  }
 },
 "nbformat": 4,
 "nbformat_minor": 5
}
