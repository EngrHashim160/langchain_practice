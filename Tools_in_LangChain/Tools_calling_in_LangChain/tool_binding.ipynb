{
 "cells": [
  {
   "cell_type": "code",
   "execution_count": 1,
   "id": "e71dd6ad",
   "metadata": {},
   "outputs": [
    {
     "data": {
      "text/plain": [
       "True"
      ]
     },
     "execution_count": 1,
     "metadata": {},
     "output_type": "execute_result"
    }
   ],
   "source": [
    "from langchain_core.tools import tool\n",
    "from langchain_core.messages import HumanMessage\n",
    "import requests\n",
    "from langchain_groq import ChatGroq\n",
    "from dotenv import load_dotenv\n",
    "\n",
    "load_dotenv()\n"
   ]
  },
  {
   "cell_type": "code",
   "execution_count": 4,
   "id": "d8f2b531",
   "metadata": {},
   "outputs": [],
   "source": [
    "@tool\n",
    "def divide(a: int, b: int) -> float:\n",
    "    \"\"\"Takes two integers and returns the division result.\"\"\"\n",
    "    return a / b"
   ]
  },
  {
   "cell_type": "code",
   "execution_count": 6,
   "id": "4b21a30e",
   "metadata": {},
   "outputs": [
    {
     "name": "stdout",
     "output_type": "stream",
     "text": [
      "5.0\n"
     ]
    }
   ],
   "source": [
    "print(divide({\"b\": 2, \"a\": 10}))"
   ]
  },
  {
   "cell_type": "code",
   "execution_count": 8,
   "id": "c9c494f9",
   "metadata": {},
   "outputs": [
    {
     "name": "stdout",
     "output_type": "stream",
     "text": [
      "divide\n",
      "Takes two integers and returns the division result.\n",
      "{'a': {'title': 'A', 'type': 'integer'}, 'b': {'title': 'B', 'type': 'integer'}}\n"
     ]
    }
   ],
   "source": [
    "print(divide.name)\n",
    "print(divide.description)\n",
    "print(divide.args)"
   ]
  },
  {
   "cell_type": "markdown",
   "id": "918ad0a6",
   "metadata": {},
   "source": [
    "##### Tools Binding"
   ]
  },
  {
   "cell_type": "code",
   "execution_count": 9,
   "id": "7cb0c754",
   "metadata": {},
   "outputs": [],
   "source": [
    "llm = ChatGroq(\n",
    "    model_name=\"llama3-8b-8192\",\n",
    ")"
   ]
  },
  {
   "cell_type": "code",
   "execution_count": 15,
   "id": "00b9f58e",
   "metadata": {},
   "outputs": [],
   "source": [
    "llm_with_tools = llm.bind_tools([divide])"
   ]
  },
  {
   "cell_type": "code",
   "execution_count": 17,
   "id": "41b507d2",
   "metadata": {},
   "outputs": [
    {
     "data": {
      "text/plain": [
       "AIMessage(content='<tool-use>\\n{\\n  \"tool_calls\": []\\n}\\n</tool-use>', additional_kwargs={}, response_metadata={'token_usage': {'completion_tokens': 17, 'prompt_tokens': 925, 'total_tokens': 942, 'completion_time': 0.014166667, 'prompt_time': 0.115190566, 'queue_time': 0.23593217100000002, 'total_time': 0.129357233}, 'model_name': 'llama3-8b-8192', 'system_fingerprint': 'fp_a97cfe35ae', 'finish_reason': 'stop', 'logprobs': None}, id='run-60053f40-93a3-40d4-880e-bd1d7e0c01ef-0', usage_metadata={'input_tokens': 925, 'output_tokens': 17, 'total_tokens': 942})"
      ]
     },
     "execution_count": 17,
     "metadata": {},
     "output_type": "execute_result"
    }
   ],
   "source": [
    "llm_with_tools.invoke(\"Hi How are you?\")"
   ]
  },
  {
   "cell_type": "code",
   "execution_count": 61,
   "id": "05cf7a66",
   "metadata": {},
   "outputs": [],
   "source": [
    "query = HumanMessage(content=\"Can you Divide 8 by 2.\")"
   ]
  },
  {
   "cell_type": "code",
   "execution_count": 62,
   "id": "62d72108",
   "metadata": {},
   "outputs": [],
   "source": [
    "messages = [query]"
   ]
  },
  {
   "cell_type": "code",
   "execution_count": 63,
   "id": "64805c0f",
   "metadata": {},
   "outputs": [
    {
     "data": {
      "text/plain": [
       "[HumanMessage(content='Can you Divide 8 by 2.', additional_kwargs={}, response_metadata={})]"
      ]
     },
     "execution_count": 63,
     "metadata": {},
     "output_type": "execute_result"
    }
   ],
   "source": [
    "messages"
   ]
  },
  {
   "cell_type": "code",
   "execution_count": 64,
   "id": "4476b170",
   "metadata": {},
   "outputs": [],
   "source": [
    "result = llm_with_tools.invoke(messages)\n",
    "\n",
    "# this is just suggestion from the llm execution part is later in this notebook\n"
   ]
  },
  {
   "cell_type": "code",
   "execution_count": 65,
   "id": "c83b8d36",
   "metadata": {},
   "outputs": [
    {
     "data": {
      "text/plain": [
       "AIMessage(content='', additional_kwargs={'tool_calls': [{'id': 'call_s4en', 'function': {'arguments': '{\"a\":8,\"b\":2}', 'name': 'divide'}, 'type': 'function'}]}, response_metadata={'token_usage': {'completion_tokens': 79, 'prompt_tokens': 929, 'total_tokens': 1008, 'completion_time': 0.065833333, 'prompt_time': 0.11601687, 'queue_time': 0.021345731000000007, 'total_time': 0.181850203}, 'model_name': 'llama3-8b-8192', 'system_fingerprint': 'fp_179b0f92c9', 'finish_reason': 'tool_calls', 'logprobs': None}, id='run-301480e3-f580-4ec0-a005-3c2f957a8540-0', tool_calls=[{'name': 'divide', 'args': {'a': 8, 'b': 2}, 'id': 'call_s4en', 'type': 'tool_call'}], usage_metadata={'input_tokens': 929, 'output_tokens': 79, 'total_tokens': 1008})"
      ]
     },
     "execution_count": 65,
     "metadata": {},
     "output_type": "execute_result"
    }
   ],
   "source": [
    "result"
   ]
  },
  {
   "cell_type": "code",
   "execution_count": 66,
   "id": "224b1f2c",
   "metadata": {},
   "outputs": [],
   "source": [
    "messages.append(result)"
   ]
  },
  {
   "cell_type": "code",
   "execution_count": 67,
   "id": "68f9eeeb",
   "metadata": {},
   "outputs": [
    {
     "data": {
      "text/plain": [
       "[HumanMessage(content='Can you Divide 8 by 2.', additional_kwargs={}, response_metadata={}),\n",
       " AIMessage(content='', additional_kwargs={'tool_calls': [{'id': 'call_s4en', 'function': {'arguments': '{\"a\":8,\"b\":2}', 'name': 'divide'}, 'type': 'function'}]}, response_metadata={'token_usage': {'completion_tokens': 79, 'prompt_tokens': 929, 'total_tokens': 1008, 'completion_time': 0.065833333, 'prompt_time': 0.11601687, 'queue_time': 0.021345731000000007, 'total_time': 0.181850203}, 'model_name': 'llama3-8b-8192', 'system_fingerprint': 'fp_179b0f92c9', 'finish_reason': 'tool_calls', 'logprobs': None}, id='run-301480e3-f580-4ec0-a005-3c2f957a8540-0', tool_calls=[{'name': 'divide', 'args': {'a': 8, 'b': 2}, 'id': 'call_s4en', 'type': 'tool_call'}], usage_metadata={'input_tokens': 929, 'output_tokens': 79, 'total_tokens': 1008})]"
      ]
     },
     "execution_count": 67,
     "metadata": {},
     "output_type": "execute_result"
    }
   ],
   "source": [
    "messages"
   ]
  },
  {
   "cell_type": "code",
   "execution_count": 68,
   "id": "ae930f16",
   "metadata": {},
   "outputs": [
    {
     "data": {
      "text/plain": [
       "{'a': 8, 'b': 2}"
      ]
     },
     "execution_count": 68,
     "metadata": {},
     "output_type": "execute_result"
    }
   ],
   "source": [
    "result.tool_calls[0]['args']"
   ]
  },
  {
   "cell_type": "code",
   "execution_count": 69,
   "id": "ae5306e0",
   "metadata": {},
   "outputs": [],
   "source": [
    "tool_result = divide.invoke(result.tool_calls[0])\n",
    "\n",
    "# It returns the ToolMessage"
   ]
  },
  {
   "cell_type": "code",
   "execution_count": 70,
   "id": "131345cf",
   "metadata": {},
   "outputs": [],
   "source": [
    "messages.append(tool_result)"
   ]
  },
  {
   "cell_type": "code",
   "execution_count": 71,
   "id": "6f729812",
   "metadata": {},
   "outputs": [
    {
     "data": {
      "text/plain": [
       "[HumanMessage(content='Can you Divide 8 by 2.', additional_kwargs={}, response_metadata={}),\n",
       " AIMessage(content='', additional_kwargs={'tool_calls': [{'id': 'call_s4en', 'function': {'arguments': '{\"a\":8,\"b\":2}', 'name': 'divide'}, 'type': 'function'}]}, response_metadata={'token_usage': {'completion_tokens': 79, 'prompt_tokens': 929, 'total_tokens': 1008, 'completion_time': 0.065833333, 'prompt_time': 0.11601687, 'queue_time': 0.021345731000000007, 'total_time': 0.181850203}, 'model_name': 'llama3-8b-8192', 'system_fingerprint': 'fp_179b0f92c9', 'finish_reason': 'tool_calls', 'logprobs': None}, id='run-301480e3-f580-4ec0-a005-3c2f957a8540-0', tool_calls=[{'name': 'divide', 'args': {'a': 8, 'b': 2}, 'id': 'call_s4en', 'type': 'tool_call'}], usage_metadata={'input_tokens': 929, 'output_tokens': 79, 'total_tokens': 1008}),\n",
       " ToolMessage(content='4.0', name='divide', tool_call_id='call_s4en')]"
      ]
     },
     "execution_count": 71,
     "metadata": {},
     "output_type": "execute_result"
    }
   ],
   "source": [
    "messages"
   ]
  },
  {
   "cell_type": "code",
   "execution_count": 72,
   "id": "f02b3162",
   "metadata": {},
   "outputs": [
    {
     "data": {
      "text/plain": [
       "AIMessage(content='4.0', additional_kwargs={}, response_metadata={'token_usage': {'completion_tokens': 4, 'prompt_tokens': 998, 'total_tokens': 1002, 'completion_time': 0.003333333, 'prompt_time': 0.124789862, 'queue_time': 0.02462198800000001, 'total_time': 0.128123195}, 'model_name': 'llama3-8b-8192', 'system_fingerprint': 'fp_179b0f92c9', 'finish_reason': 'stop', 'logprobs': None}, id='run-fe0da4cc-a182-4fa8-85b9-a5e571973993-0', usage_metadata={'input_tokens': 998, 'output_tokens': 4, 'total_tokens': 1002})"
      ]
     },
     "execution_count": 72,
     "metadata": {},
     "output_type": "execute_result"
    }
   ],
   "source": [
    "llm_with_tools.invoke(messages)"
   ]
  },
  {
   "cell_type": "code",
   "execution_count": null,
   "id": "0fb2b7ae",
   "metadata": {},
   "outputs": [],
   "source": []
  }
 ],
 "metadata": {
  "kernelspec": {
   "display_name": "langchain_env",
   "language": "python",
   "name": "python3"
  },
  "language_info": {
   "codemirror_mode": {
    "name": "ipython",
    "version": 3
   },
   "file_extension": ".py",
   "mimetype": "text/x-python",
   "name": "python",
   "nbconvert_exporter": "python",
   "pygments_lexer": "ipython3",
   "version": "3.11.7"
  }
 },
 "nbformat": 4,
 "nbformat_minor": 5
}
