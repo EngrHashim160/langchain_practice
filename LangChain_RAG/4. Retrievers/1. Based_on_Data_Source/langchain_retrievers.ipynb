{
 "cells": [
  {
   "cell_type": "markdown",
   "id": "58da0e50",
   "metadata": {},
   "source": [
    "## Wikipedia Retriever"
   ]
  },
  {
   "cell_type": "code",
   "execution_count": 1,
   "id": "527d0d09",
   "metadata": {},
   "outputs": [],
   "source": [
    "from langchain_community.retrievers import WikipediaRetriever"
   ]
  },
  {
   "cell_type": "code",
   "execution_count": 2,
   "id": "7cfece4b",
   "metadata": {},
   "outputs": [],
   "source": [
    "retriever = WikipediaRetriever(\n",
    "    top_k_results=3,\n",
    "    lang='en'\n",
    ")"
   ]
  },
  {
   "cell_type": "code",
   "execution_count": 3,
   "id": "04ee12fb",
   "metadata": {},
   "outputs": [],
   "source": [
    "query = \"Who is Karnal Sher Khan?\"\n",
    "\n",
    "docs = retriever.invoke(query)"
   ]
  },
  {
   "cell_type": "code",
   "execution_count": 4,
   "id": "2a84adf7",
   "metadata": {},
   "outputs": [
    {
     "name": "stdout",
     "output_type": "stream",
     "text": [
      "\n",
      "--- Result 1---\n",
      "Content: \n",
      " Karnal Sher Khan (1 January 1970 – 5 July 1999) was a Pakistani military officer. He is one of only eleven recipients of Pakistan's highest military gallantry award, Nishan-e-Haider. He was a captain in the 27th Sindh Regiment of the Pakistan Army and later was posted to 12th NLI Regiment during the Kargil War. He was killed in action during the war. For his bravery during the Kargil War, he was awarded the Nishan-e-Haider. His name is the localised form of the rank Colonel.\n",
      "\n",
      "\n",
      "== Personal life ==\n",
      "Karnal Sher Khan was born on 1 January 1970 into the Yusufzai tribe of  Pashtuns of Naway Kallay village (now Karnal Sher Khan Kallay village), located in Swabi, Khyber Pakhtunkhwa. His father's name was Hazar Khan. He was the youngest of two brothers and two sisters and his mother died when he was 6 years old which left him to be raised by his father. \n",
      "Khan completed his intermediate education at a government postgraduate college in Swabi and later joined Pakistan Armed Forces. Throughout his life, Khan cared about the poor people in his area and spent most part of his salary helping them.\n",
      "\n",
      "\n",
      "== Military career ==\n",
      "After completing his intermediate education, Khan first joined Pakistan Air Force (PAF) as an Airman in 1989, in Korangi he was in the Iqbal wing, he was roommate and a close friend of sqn\\ldr Retd. M Mushtaq (who later served in PAF for 35 year as flight engineer ).Later Capt Karnal Sher Khan joined Pakistan Army as a commissioned officer in 1992. On 14 October 1994, Khan was commissioned in the 27th Sindh Regiment of Pakistan army.\n",
      "During the Kargil War, Khan was deployed at the Gultari region. He along with his fellow soldiers established five strategic posts at height of 17,000 feet at Gultari which is Indian territory. Indian Army launched eight attacks on their position to reclaim the strategic posts. However, Khan and his men were able to defend those posts. On 5 July 1999, the Indian army launched another attack and surrounded his posts with two battalions. With heavy mortar fire, the Indian Army captured one of his posts. Khan personally led a successful counter-attack and was able to re-capture the occupied lost post. Despite shortage of ammunition and men, Khan was successful in forcing the enemy to retreat. However, during the battle he was hit by machine gun fire and was killed in action.\n",
      "Indian Army Brigadier M. P. S. Bajwa was impressed by the actions of Captain Khan and wrote to the government of Pakistan citing the bravery of the young officer. Bajwa wrote a citation for Khan and placed it in his pocket while returning his body to the Pakistani officials. Khan's actions during the war were also vouched by his fellow Pakistani soldiers and Khan was posthumously awarded Pakistan's highest military honour, the Nishan-e-Haider.\n",
      "\n",
      "\n",
      "== Awards and decorations ==\n",
      "\n",
      "\n",
      "== Legacy ==\n",
      "Karnal Sher Khan's home town Naway Kallay was renamed as Karnal Sher Khan Kallay. A mausoleum was established in his hometown where his body lays in rest. Every year officials from the Pakistani Government and Pakistan Armed Forces and other locals visit the tomb to offer prayer.\n",
      "A cadet college has been named after him in the village Ismaila near the native town of Karnal Sher Khan Shaheed (NH). It is located on the main Mardan-Swabi Road, approximately midway between Mardan (23 km) and Swabi (25 km). It can also be accessed from Grand Trunk Road through Nowshera-Mardan and from Swabi or Rashakai interchange on the Motorway (M1).\n",
      "Interchange connecting near Mardan on M1 that intersects M1 with origin of M16 heading towards Swat valley has also been named after Sher Khan as Karnal Sher Khan Interchange. Similarly the toll plaza at the termination of southern end of M16 are also given name of Sher Khan as Karnal Sher Khan Toll Plaza. A road in the F-11 sector of Pakistan's capital city Islamabad is named after him. Many roads are named after him in military cantonments across the country most notably in Lahore and Rawalpindi Cantonments.\n",
      "Moreov...\n",
      "\n",
      "--- Result 2---\n",
      "Content: \n",
      " Karnal Sher Khan Shaheed Road (Urdu: سڑکِ کرنال شیر خان شہید), previously known as the IJP Road (Urdu: سڑکِ آئی جے پی), or the  Inter-Junction Principal Road,   is one of the busiest roads in the Islamabad–Rawalpindi metropolitan area in Pakistan, connecting Islamabad to Rawalpindi. It also serves as a route for traffic coming from Punjab and Azad Kashmir going towards Taxila, Attock, and onwards to Khyber Pakhtunkhwa. It is named IJ Principle Road because it is the road that was going to be between the never-built Sector J and Sector I of Islamabad.\n",
      "It starts at N-5 National Highway in the west and ends at Faizabad Interchange in the east, where it meets the Islamabad Expressway and Murree Road. The total length of the road is 10.2 kilometers.\n",
      "\n",
      "\n",
      "== Repairs and renovation ==\n",
      "Over the years, several potholes had appeared on the road due to the heavy volume of trucks (from the Islamabad wholesale market and Sabzi Mandi) and buses (from the Pirwadhai bus stand) using it. Regular maintenance and repairs were not carried out in time by the Capital Development Authority. Triple surface treatment repair work was done in 2016–17, but major repairs were still needed.\n",
      "IN December 2017, the Development Working Party of the Capital Development Authority approved the project concept-II for the uplift of the road. It then launched a tender to hire a consultant who would prepare a rehabilitation plan for the road. Four firms responded to the tender: Zeerak International, National Engineering Services Pakistan (NESPAK), EA Associates, and ACC Consultants, out of which the former was hired in April 2020. It presented its plan in October 2020, which had an estimated cost of Rs. 5.322 billion.   \n",
      "In 2021, the government launched a plan to rebuild and widen the dual carriageway by adding two additional lanes on either side at a cost of Rs. 4.9 billion, while Rs. 120 million was earmarked for environmental protection and conservation. The renovation project also envisaged two flyovers, two bridges (at Katarian and Pirwadhai), and seven culverts as well. The National Logistics Cell was awarded the contract for the project. It is planned to be completed by April 2023. \n",
      "\n",
      "\n",
      "== References ==...\n",
      "\n",
      "--- Result 3---\n",
      "Content: \n",
      " The Battle of Karnal (Persian: نبرد کرنال) (24 February 1739) was a decisive victory for Nader Shah, the founder of the Afsharid dynasty of Iran, during his invasion of India. Nader's forces defeated the army of Muhammad Shah within three hours, paving the way for the Iranian sack of Delhi. The engagement is considered the crowning jewel in Nader's military career as well as a tactical masterpiece. The battle took place near Karnal in Haryana, 110 kilometres (68 mi) north of Delhi, India. As a result of the overwhelming defeat of the Mughal Empire at Karnal, the already-declining Mughal dynasty was critically weakened to such an extent as to hasten its demise. According to Axworthy, it is also possible that without the ruinous effects of Nader's invasion of India, European colonial takeover of the Indian subcontinent would have come in a different form or perhaps not at all.\n",
      "\n",
      "\n",
      "== Nader's entry into the Mughal Empire ==\n",
      "\n",
      "The events at the Delhi court during Nadir’s invasion reveal a story of shocking inefficiency. News of Kabul’s loss in June 1738 reached Delhi in early July, yet nothing was done to secure the borders for many months. Even after Nadir Shah crossed the Khyber Pass in November, it was two months before any decisive action was taken. On 2 December 1738, the Emperor officially permitted his three top nobles—Itimad-ad-Daula, Qamar-ud-Din Khan (the wazir), Nizam-ul-Mulk, Asaf Jah I (the regent), and Samsam‑ud‑daulah Khan Dauran (the military head)—to move against the invader and provided them with funds. Instead of promptly addressing the threat, however, they set up camp outside Delhi in the Shalimar Garden near Sarai Baoli and wasted an entire month.\n",
      "When news came on 10 January 1739 that Nadir Shah had crossed the river at Attock, the imperial army was finally urged to act. The court still placed its hopes on Governor Zakariya Khan to make a stand, but when he proved unable to resist Nadir Shah, some courtiers even accused him of treachery—alleging that he had surrendered Lahore fort to the Persians because of his shared background with Nadir.\n",
      "At the first sign of Nadir Shah’s advance, the court recognised its own shortcomings and called on the experienced Nizam for advice. A veteran of Aurangzeb’s era, the Nizam was known for his wisdom and diplomacy, yet he was not given full command or the confidence of the Emperor, whose trust lay with Khan Dauran and the local faction. Khan Dauran, who admired Rajput bravery, even sent messengers to call on his protégés among the Hindu Rajputs, especially Sawai Jai Singh, to aid the Emperor. However, longstanding alienation had left the Rajput chieftains reluctant to act, with many now seeking independence and even inviting the Marathas to help dismantle the Empire. The Emperor eventually appealed to Baji Rao for help, and the Peshwa promised to send the Malwa force under leaders such as Malhar Rao Holkar, Ranuji Sindhia, and Udaji Puar. Nevertheless, this expected assistance never arrived in time. Not only did no Dakhini force come to aid at Karnal, but the Maratha envoy even fled, and Baji Rao later considered defending the Narmada line to block further advances by Nadir. A coordinated Maratha defence of northern India simply did not happen.\n",
      "The imperial forces spent the month of Ramzan (December 1738) outside Delhi without any significant action. Once it was confirmed that the Persians had crossed at Attock, the three nobles finally began marching toward Lahore on 10 January 1739, urging the Emperor to join them immediately. Soon after, they reached Panipat, where on that same day Muhammad Shah left Delhi and later joined his generals who had been waiting. By that time, news of Nadir’s capture of Lahore had already reached the court, making it impossible to save the city. It was then decided to set up camp and await the enemy at Karnal, a location with abundant water from a canal and open plains suitable for manoeuvring large cavalry units. This pause also allowed time for...\n"
     ]
    }
   ],
   "source": [
    "for i, doc in enumerate(docs):\n",
    "    print(f\"\\n--- Result {i+1}---\")\n",
    "    print(f\"Content: \\n {doc.page_content}...\")"
   ]
  },
  {
   "cell_type": "markdown",
   "id": "187e2ef6",
   "metadata": {},
   "source": [
    "## Vector Store Retriever"
   ]
  },
  {
   "cell_type": "code",
   "execution_count": 5,
   "id": "51bf9082",
   "metadata": {},
   "outputs": [],
   "source": [
    "from langchain_community.vectorstores import Chroma\n",
    "from langchain_huggingface import HuggingFaceEmbeddings\n",
    "from langchain_core.documents import Document"
   ]
  },
  {
   "cell_type": "code",
   "execution_count": 6,
   "id": "018e0ee4",
   "metadata": {},
   "outputs": [],
   "source": [
    "documents = [\n",
    "    Document(page_content=\"LangChain helps developers build LLM applications easily.\"),\n",
    "    Document(page_content=\"Chroma is a vector database optimized for LLM-based search.\"),\n",
    "    Document(page_content=\"Embeddings convert text into high-dimensional vectors.\"),\n",
    "    Document(page_content=\"OpenAI provides powerful embedding models.\"),\n",
    "]"
   ]
  },
  {
   "cell_type": "code",
   "execution_count": 9,
   "id": "b9b97267",
   "metadata": {},
   "outputs": [],
   "source": [
    "embedding_model = HuggingFaceEmbeddings()\n",
    "\n",
    "vectorstore = Chroma.from_documents(\n",
    "    documents=documents,\n",
    "    embedding=embedding_model,\n",
    "    collection_name='my_collection'\n",
    ")"
   ]
  },
  {
   "cell_type": "code",
   "execution_count": 10,
   "id": "d5266b35",
   "metadata": {},
   "outputs": [],
   "source": [
    "retriever = vectorstore.as_retriever()"
   ]
  },
  {
   "cell_type": "code",
   "execution_count": 11,
   "id": "6f91fcdf",
   "metadata": {},
   "outputs": [],
   "source": [
    "results = retriever.invoke(\"What is Chroma Used for?\")"
   ]
  },
  {
   "cell_type": "code",
   "execution_count": 12,
   "id": "318c39cf",
   "metadata": {},
   "outputs": [
    {
     "name": "stdout",
     "output_type": "stream",
     "text": [
      "\n",
      "--- Result 1---\n",
      "Content: \n",
      " Chroma is a vector database optimized for LLM-based search....\n",
      "\n",
      "--- Result 2---\n",
      "Content: \n",
      " Chroma is a vector database optimized for LLM-based search....\n",
      "\n",
      "--- Result 3---\n",
      "Content: \n",
      " Embeddings convert text into high-dimensional vectors....\n",
      "\n",
      "--- Result 4---\n",
      "Content: \n",
      " Embeddings convert text into high-dimensional vectors....\n"
     ]
    }
   ],
   "source": [
    "for i, doc in enumerate(results):\n",
    "    print(f\"\\n--- Result {i+1}---\")\n",
    "    print(f\"Content: \\n {doc.page_content}...\")"
   ]
  }
 ],
 "metadata": {
  "kernelspec": {
   "display_name": "Python 3",
   "language": "python",
   "name": "python3"
  },
  "language_info": {
   "codemirror_mode": {
    "name": "ipython",
    "version": 3
   },
   "file_extension": ".py",
   "mimetype": "text/x-python",
   "name": "python",
   "nbconvert_exporter": "python",
   "pygments_lexer": "ipython3",
   "version": "3.11.7"
  }
 },
 "nbformat": 4,
 "nbformat_minor": 5
}
