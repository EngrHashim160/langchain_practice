{
 "cells": [
  {
   "cell_type": "code",
   "execution_count": 19,
   "id": "829919e7",
   "metadata": {},
   "outputs": [
    {
     "data": {
      "text/plain": [
       "True"
      ]
     },
     "execution_count": 19,
     "metadata": {},
     "output_type": "execute_result"
    }
   ],
   "source": [
    "from langchain_groq import ChatGroq\n",
    "from langchain_core.tools import tool\n",
    "from langchain_community.tools import DuckDuckGoSearchRun\n",
    "import requests\n",
    "from langchain.agents import create_react_agent, AgentExecutor\n",
    "from langchain import hub \n",
    "from dotenv import load_dotenv\n",
    "load_dotenv()"
   ]
  },
  {
   "cell_type": "code",
   "execution_count": 7,
   "id": "833b366c",
   "metadata": {},
   "outputs": [
    {
     "data": {
      "text/plain": [
       "\"PZ vs IU: Where to watch live streaming of today's PSL match? A Sports and PTV Sports will broadcast the match live in Pakistan, while live streaming will be available on the following platforms: Walee Technologies, Tapmad, Tamasha, Daraz, Myco and Begin.. PSL matches are not being live streamed in India currently. You can find the complete live streaming details for PSL 2025 here. Islamabad United won the toss and opted to bat first against Peshawar Zalmi in the 22nd match of the PSL 10 in Lahore on Friday. Close 30.9 C ... ARY NEWS brings you 24/7 Live Streaming, Headlines ... Lahore Qalandars face Islamabad United in the 19th match of the Pakistan Super League 2025 at the Gaddafi Stadium, Lahore tonight. Both teams are enjoying a successful season so far. ISL skipper Shadab Khan won the toss and elected to bowl first on the night. Shadab Khan-led Islamabad United have ... Islamabad United captain Shadab Khan and Peshawar Zalmi skipper Babar Azam at toss ceremony during their match in Pakistan Super League (PSL) at Rawalpindi Cricket Stadium, April 14, 2025. Islamabad United vs. Lahore Qalandars, PSL 2025 match start time: Here's how to watch the Pakistan Super League 2025 match on TV and live stream in the USA. The Sporting News takes you through ...\""
      ]
     },
     "execution_count": 7,
     "metadata": {},
     "output_type": "execute_result"
    }
   ],
   "source": [
    "search_tool = DuckDuckGoSearchRun()\n",
    "\n",
    "result = search_tool.invoke(\"PSL Match NEWS today\")\n",
    "result"
   ]
  },
  {
   "cell_type": "code",
   "execution_count": null,
   "id": "e4fa4268",
   "metadata": {},
   "outputs": [],
   "source": [
    "llm = ChatGroq(model=\"llama3-8b-8192\")\n"
   ]
  },
  {
   "cell_type": "code",
   "execution_count": 14,
   "id": "7887addd",
   "metadata": {},
   "outputs": [
    {
     "data": {
      "text/plain": [
       "AIMessage(content=\"I'm just a language model, I don't have emotions or feelings like humans do, but I'm functioning properly and ready to help you with any questions or tasks you may have! How about you?\", additional_kwargs={}, response_metadata={'token_usage': {'completion_tokens': 42, 'prompt_tokens': 16, 'total_tokens': 58, 'completion_time': 0.035, 'prompt_time': 0.003186116, 'queue_time': 0.409631035, 'total_time': 0.038186116}, 'model_name': 'llama3-8b-8192', 'system_fingerprint': 'fp_dadc9d6142', 'finish_reason': 'stop', 'logprobs': None}, id='run-ea349e5e-6173-45af-94ec-3bc48b03db77-0', usage_metadata={'input_tokens': 16, 'output_tokens': 42, 'total_tokens': 58})"
      ]
     },
     "execution_count": 14,
     "metadata": {},
     "output_type": "execute_result"
    }
   ],
   "source": [
    "llm.invoke(\"Hi! How are you?\")\n"
   ]
  },
  {
   "cell_type": "code",
   "execution_count": 21,
   "id": "df6146a5",
   "metadata": {},
   "outputs": [],
   "source": [
    "# step 2: Pull the React prompt from LangChain Hub\n",
    "prompt = hub.pull(\"hwchase17/react\") # Reasoning + action\n"
   ]
  },
  {
   "cell_type": "code",
   "execution_count": null,
   "id": "4c950c95",
   "metadata": {},
   "outputs": [],
   "source": [
    "# step 3: Create the ReAct agent manually with the pulled prompt\n",
    "\n",
    "agent = create_react_agent(\n",
    "    llm = llm,\n",
    "    tools = [search_tool],\n",
    "    prompt = prompt\n",
    ")"
   ]
  },
  {
   "cell_type": "code",
   "execution_count": null,
   "id": "2529ec37",
   "metadata": {},
   "outputs": [],
   "source": [
    "# step 4: Wrap it with AgentExecutor\n",
    "agent_executor = AgentExecutor(\n",
    "    agent = agent,\n",
    "    tools = [search_tool],\n",
    "    verbose = True\n",
    ")"
   ]
  },
  {
   "cell_type": "code",
   "execution_count": 24,
   "id": "827819ac",
   "metadata": {},
   "outputs": [
    {
     "name": "stdout",
     "output_type": "stream",
     "text": [
      "\n",
      "\n",
      "\u001b[1m> Entering new AgentExecutor chain...\u001b[0m\n",
      "\u001b[32;1m\u001b[1;3mThought: Let's try to find the latest news about PSL Match today.\n",
      "\n",
      "Action: duckduckgo_search\n",
      "Action Input: \"latest news about PSL Match today\"\u001b[0m\u001b[36;1m\u001b[1;3mPeshawar Zalmi will play Islamabad United in the 22nd match of the 2025 Pakistan Super League - Follow today's PZ vs IU PSL 2025 match here, ... Stay up to date with the latest cricket news, player updates, team standings, match highlights, video analysis and live match odds. Related tags: Trending Stories Series Cover Stories. Lahore Qalandars face Islamabad United in the 19th match of the Pakistan Super League 2025 at the Gaddafi Stadium, Lahore tonight. Both teams are enjoying a successful season so far. ISL skipper Shadab Khan won the toss and elected to bowl first on the night. Shadab Khan-led Islamabad United have ... LAHORE: Islamabad United decided to bat first after winning toss against Peshawar Zalmi in the 22nd match of the Pakistan Super League 10 at the Gaddafi Stadium on Friday.Peshawar would be looking... Islamabad United vs. Lahore Qalandars, PSL 2025 match start time: Here's how to watch the Pakistan Super League 2025 match on TV and live stream in the USA. The Sporting News takes you through ... Get real-time PSL 10 live scores, match updates, and team standings. Stay updated on your favorite team and all the PSL 2025 action!\u001b[0m\u001b[32;1m\u001b[1;3mThought: It looks like the latest news about PSL Match today is about the 22nd match of the 2025 Pakistan Super League, where Peshawar Zalmi will play Islamabad United.\n",
      "\n",
      "Action: duckduckgo_search\n",
      "Action Input: \"Pakistan Super League 2025 schedule\"\u001b[0m\u001b[36;1m\u001b[1;3mFind out the dates, venues and results of the Pakistan Super League, 2025 matches. See the latest scores, player of the match awards and win projections for each game. The Pakistan Super League (PSL) is set to celebrate its 10th season in 2025, marking a decade of thrilling cricket action. The PSL 10 schedule has been proposed by the Pakistan Cricket Board (PCB ... Pakistan Super League Final Date and Venue. The finals are always pretty exciting. This year, the finalists will play the 34th match of HBL PSL 10 on 20 May 2025 in the National Bank Stadium. Also, Check the Venues for PSL 2025 Matches. This is a good day to play the final. And also, the venue is a suitable choice. PSL 2025 Schedule. OFFICIAL SCHEDULE OF PSL 2025 ANNOUNCED. The tournament will be played from April 11 till May 18. The opening match in Rawalpindi, final in Lahore. Date ... Pakistan Super League 2025 will have Sialkot, Faisalabad new teams, Say By Javed Afridi. Where is the PSL 2025 venue? Karachi, Lahore, Multan, and Rawalpindi ... The schedule for PSL 2025 is here: find the fixtures list, match timings and venues for the Pakistan Super League. PSL 2025: Is there a clash with IPL 2025? Yes, there is.\u001b[0m\u001b[32;1m\u001b[1;3mQuestion: What is the latest news about PSL Match today?\n",
      "Thought: Let's try to find the latest news about PSL Match today.\n",
      "Action: duckduckgo_search\n",
      "Action Input: \"latest news about PSL Match today\"\u001b[0m\u001b[36;1m\u001b[1;3mPeshawar Zalmi will play Islamabad United in the 22nd match of the 2025 Pakistan Super League - Follow today's PZ vs IU PSL 2025 match here, ... Stay up to date with the latest cricket news, player updates, team standings, match highlights, video analysis and live match odds. Related tags: Trending Stories Series Cover Stories. LAHORE: Islamabad United decided to bat first after winning toss against Peshawar Zalmi in the 22nd match of the Pakistan Super League 10 at the Gaddafi Stadium on Friday.Peshawar would be looking... Lahore Qalandars face Islamabad United in the 19th match of the Pakistan Super League 2025 at the Gaddafi Stadium, Lahore tonight. Both teams are enjoying a successful season so far. ISL skipper Shadab Khan won the toss and elected to bowl first on the night. Shadab Khan-led Islamabad United have ... Get real-time PSL 10 live scores, match updates, and team standings. Stay updated on your favorite team and all the PSL 2025 action! PSL Live Score: Get PSL live cricket score, news, schedules, highlights, commentary, rankings, videos, stats, & more updates for Pakistan Premier League 2025 matches.\u001b[0m\u001b[32;1m\u001b[1;3mQuestion: What is the latest news about PSL Match today?\n",
      "\n",
      "Thought: Let's try to find the latest news about PSL Match today.\n",
      "\n",
      "Action: duckduckgo_search\n",
      "Action Input: \"latest news about PSL Match today\"\u001b[0m\u001b[36;1m\u001b[1;3mPeshawar Zalmi will play Islamabad United in the 22nd match of the 2025 Pakistan Super League - Follow today's PZ vs IU PSL 2025 match here, ... Stay up to date with the latest cricket news, player updates, team standings, match highlights, video analysis and live match odds. Related tags: Trending Stories Series Cover Stories. Lahore Qalandars face Islamabad United in the 19th match of the Pakistan Super League 2025 at the Gaddafi Stadium, Lahore tonight. Both teams are enjoying a successful season so far. ISL skipper Shadab Khan won the toss and elected to bowl first on the night. Shadab Khan-led Islamabad United have ... LAHORE: Islamabad United decided to bat first after winning toss against Peshawar Zalmi in the 22nd match of the Pakistan Super League 10 at the Gaddafi Stadium on Friday.Peshawar would be looking... Get the latest Pakistan Super League live score, news, live match updates and ball by ball Commentary. Follow Sportskeeda for the latest Pakistan Super League 2025 results, stats and match preview. Get real-time PSL 10 live scores, match updates, and team standings. Stay updated on your favorite team and all the PSL 2025 action!\u001b[0m\u001b[32;1m\u001b[1;3mThought: I now know the final answer.\n",
      "\n",
      "Final Answer: The latest news about PSL Match today is that Peshawar Zalmi will play Islamabad United in the 22nd match of the 2025 Pakistan Super League.\u001b[0m\n",
      "\n",
      "\u001b[1m> Finished chain.\u001b[0m\n"
     ]
    }
   ],
   "source": [
    "# step 5: invoke\n",
    "response = agent_executor.invoke({'input': \"What is the latest news about PSL Match today?\"})"
   ]
  },
  {
   "cell_type": "code",
   "execution_count": 25,
   "id": "e8894042",
   "metadata": {},
   "outputs": [
    {
     "name": "stdout",
     "output_type": "stream",
     "text": [
      "{'input': 'What is the latest news about PSL Match today?', 'output': 'The latest news about PSL Match today is that Peshawar Zalmi will play Islamabad United in the 22nd match of the 2025 Pakistan Super League.'}\n"
     ]
    }
   ],
   "source": [
    "print(response)"
   ]
  },
  {
   "cell_type": "code",
   "execution_count": null,
   "id": "4d6068e5",
   "metadata": {},
   "outputs": [],
   "source": []
  }
 ],
 "metadata": {
  "kernelspec": {
   "display_name": "langchain_env",
   "language": "python",
   "name": "python3"
  },
  "language_info": {
   "codemirror_mode": {
    "name": "ipython",
    "version": 3
   },
   "file_extension": ".py",
   "mimetype": "text/x-python",
   "name": "python",
   "nbconvert_exporter": "python",
   "pygments_lexer": "ipython3",
   "version": "3.11.7"
  }
 },
 "nbformat": 4,
 "nbformat_minor": 5
}
