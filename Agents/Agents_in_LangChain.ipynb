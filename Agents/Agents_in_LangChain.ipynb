{
 "cells": [
  {
   "cell_type": "code",
   "execution_count": 19,
   "id": "829919e7",
   "metadata": {},
   "outputs": [
    {
     "data": {
      "text/plain": [
       "True"
      ]
     },
     "execution_count": 19,
     "metadata": {},
     "output_type": "execute_result"
    }
   ],
   "source": [
    "from langchain_groq import ChatGroq\n",
    "from langchain_core.tools import tool\n",
    "from langchain_community.tools import DuckDuckGoSearchRun\n",
    "import requests\n",
    "from langchain.agents import create_react_agent, AgentExecutor\n",
    "from langchain import hub \n",
    "from dotenv import load_dotenv\n",
    "load_dotenv()"
   ]
  },
  {
   "cell_type": "code",
   "execution_count": 7,
   "id": "833b366c",
   "metadata": {},
   "outputs": [
    {
     "data": {
      "text/plain": [
       "\"PZ vs IU: Where to watch live streaming of today's PSL match? A Sports and PTV Sports will broadcast the match live in Pakistan, while live streaming will be available on the following platforms: Walee Technologies, Tapmad, Tamasha, Daraz, Myco and Begin.. PSL matches are not being live streamed in India currently. You can find the complete live streaming details for PSL 2025 here. Islamabad United won the toss and opted to bat first against Peshawar Zalmi in the 22nd match of the PSL 10 in Lahore on Friday. Close 30.9 C ... ARY NEWS brings you 24/7 Live Streaming, Headlines ... Lahore Qalandars face Islamabad United in the 19th match of the Pakistan Super League 2025 at the Gaddafi Stadium, Lahore tonight. Both teams are enjoying a successful season so far. ISL skipper Shadab Khan won the toss and elected to bowl first on the night. Shadab Khan-led Islamabad United have ... Islamabad United captain Shadab Khan and Peshawar Zalmi skipper Babar Azam at toss ceremony during their match in Pakistan Super League (PSL) at Rawalpindi Cricket Stadium, April 14, 2025. Islamabad United vs. Lahore Qalandars, PSL 2025 match start time: Here's how to watch the Pakistan Super League 2025 match on TV and live stream in the USA. The Sporting News takes you through ...\""
      ]
     },
     "execution_count": 7,
     "metadata": {},
     "output_type": "execute_result"
    }
   ],
   "source": [
    "search_tool = DuckDuckGoSearchRun()\n",
    "\n",
    "result = search_tool.invoke(\"PSL Match NEWS today\")\n",
    "result"
   ]
  },
  {
   "cell_type": "code",
   "execution_count": null,
   "id": "ca8c3408",
   "metadata": {},
   "outputs": [],
   "source": [
    "@tool\n",
    "def get_weather_data(city: str) -> str:\n",
    "  \"\"\"\n",
    "  This function fetches the current weather data for a given city\n",
    "  \"\"\"\n",
    "  url = f'https://api.weatherstack.com/current?access_key=<YOUR_API_KEY>&query={city}'\n",
    "\n",
    "  response = requests.get(url)\n",
    "\n",
    "  return response.json()\n"
   ]
  },
  {
   "cell_type": "code",
   "execution_count": 31,
   "id": "e4fa4268",
   "metadata": {},
   "outputs": [],
   "source": [
    "llm = ChatGroq(model=\"llama3-8b-8192\")\n"
   ]
  },
  {
   "cell_type": "code",
   "execution_count": 32,
   "id": "7887addd",
   "metadata": {},
   "outputs": [
    {
     "data": {
      "text/plain": [
       "AIMessage(content=\"I'm just a language model, I don't have emotions or feelings like humans do, but I'm functioning properly and ready to help you with any questions or tasks you may have! How can I assist you today?\", additional_kwargs={}, response_metadata={'token_usage': {'completion_tokens': 45, 'prompt_tokens': 16, 'total_tokens': 61, 'completion_time': 0.0375, 'prompt_time': 0.00460468, 'queue_time': 0.01719799, 'total_time': 0.04210468}, 'model_name': 'llama3-8b-8192', 'system_fingerprint': 'fp_a97cfe35ae', 'finish_reason': 'stop', 'logprobs': None}, id='run-c20c68ea-e4e9-4b96-a896-a89991f733d1-0', usage_metadata={'input_tokens': 16, 'output_tokens': 45, 'total_tokens': 61})"
      ]
     },
     "execution_count": 32,
     "metadata": {},
     "output_type": "execute_result"
    }
   ],
   "source": [
    "llm.invoke(\"Hi! How are you?\")\n"
   ]
  },
  {
   "cell_type": "code",
   "execution_count": 33,
   "id": "df6146a5",
   "metadata": {},
   "outputs": [],
   "source": [
    "# step 2: Pull the React prompt from LangChain Hub\n",
    "prompt = hub.pull(\"hwchase17/react\") # Reasoning + action\n"
   ]
  },
  {
   "cell_type": "code",
   "execution_count": 34,
   "id": "4c950c95",
   "metadata": {},
   "outputs": [],
   "source": [
    "# step 3: Create the ReAct agent manually with the pulled prompt\n",
    "\n",
    "agent = create_react_agent(\n",
    "    llm = llm,\n",
    "    tools = [search_tool, get_weather_data],\n",
    "    prompt = prompt\n",
    ")"
   ]
  },
  {
   "cell_type": "code",
   "execution_count": 35,
   "id": "2529ec37",
   "metadata": {},
   "outputs": [],
   "source": [
    "# step 4: Wrap it with AgentExecutor\n",
    "agent_executor = AgentExecutor(\n",
    "    agent = agent,\n",
    "    tools = [search_tool, get_weather_data],\n",
    "    verbose = True\n",
    ")"
   ]
  },
  {
   "cell_type": "code",
   "execution_count": 36,
   "id": "827819ac",
   "metadata": {},
   "outputs": [
    {
     "name": "stdout",
     "output_type": "stream",
     "text": [
      "\n",
      "\n",
      "\u001b[1m> Entering new AgentExecutor chain...\u001b[0m\n"
     ]
    },
    {
     "name": "stdout",
     "output_type": "stream",
     "text": [
      "\u001b[32;1m\u001b[1;3mThought: I need to get the latest news about PSL Match today and the weather condition of Lahore.\n",
      "\n",
      "Action: duckduckgo_search\n",
      "Action Input: \"PSL Match today news\"\u001b[0m\u001b[36;1m\u001b[1;3mKarachi Kings are taking on Multan Sultans while Lahore Qalandars will face off against Quetta Gladiators in today's PSL 2025 matches - you can follow the live scores, match updates, and live streaming details for the KK vs MS, and LQ vs QG games here. As the Pakistan Super League 2025 enters its final stages, the race for playoff spots has intensified. Match 21 has the Lahore Qalandars take on Quetta Gladiators at the Gaddafi Stadium in Lahore. Quetta skipper Saud Shakeel won the toss and opted to bowl first. Both teams come into this clash on ... Islamabad United won the toss and opted to bat first against Peshawar Zalmi in the 22nd match of the PSL 10 in Lahore on Friday. Close 30.9 C ... ARY NEWS brings you 24/7 Live Streaming, Headlines ... Today's PSL match: All you need to know. Match: Multan Sultans vs Quetta Gladiators. Date: April 29, 2025. Time: 8pm local time. Venue: Gaddafi Stadium, Lahore. ... News; Today's PSL Match, MS Vs QG Live Score: Playing XI, Toss, And Match Updates For Multan Sultans Vs Quetta Gladiators | PSL 2025 | Cricket News Today; Get real-time PSL 10 live scores, match updates, and team standings. Stay updated on your favorite team and all the PSL 2025 action!\u001b[0m\u001b[32;1m\u001b[1;3mThought: It seems I've got some information about the PSL Match today, but I still need to know the weather condition of Lahore.\n",
      "\n",
      "Action: get_weather_data\n",
      "Action Input: Lahore\u001b[0m\u001b[33;1m\u001b[1;3m{'request': {'type': 'City', 'query': 'Lahore, Pakistan', 'language': 'en', 'unit': 'm'}, 'location': {'name': 'Lahore', 'country': 'Pakistan', 'region': 'Punjab', 'lat': '31.550', 'lon': '74.344', 'timezone_id': 'Asia/Karachi', 'localtime': '2025-05-03 00:15', 'localtime_epoch': 1746231300, 'utc_offset': '5.0'}, 'current': {'observation_time': '07:15 PM', 'temperature': 25, 'weather_code': 116, 'weather_icons': ['https://cdn.worldweatheronline.com/images/wsymbols01_png_64/wsymbol_0004_black_low_cloud.png'], 'weather_descriptions': ['Partly cloudy'], 'astro': {'sunrise': '05:16 AM', 'sunset': '06:44 PM', 'moonrise': '10:08 AM', 'moonset': '12:02 AM', 'moon_phase': 'Waxing Crescent', 'moon_illumination': 34}, 'air_quality': {'co': '1154.4', 'no2': '34.965', 'o3': '146', 'so2': '24.605', 'pm2_5': '118.955', 'pm10': '281.755', 'us-epa-index': '4', 'gb-defra-index': '4'}, 'wind_speed': 9, 'wind_degree': 64, 'wind_dir': 'ENE', 'pressure': 1008, 'precip': 0, 'humidity': 69, 'cloudcover': 50, 'feelslike': 25, 'uv_index': 0, 'visibility': 6, 'is_day': 'no'}}\u001b[0m\u001b[32;1m\u001b[1;3mHere's the continuation:\n",
      "\n",
      "Thought: I now have the latest news about PSL Match today and the weather condition of Lahore.\n",
      "\n",
      "Final Answer: Karachi Kings are taking on Multan Sultans while Lahore Qalandars will face off against Quetta Gladiators in today's PSL 2025 matches. The weather condition in Lahore is partly cloudy with a temperature of 25 degrees Celsius.\u001b[0m\n",
      "\n",
      "\u001b[1m> Finished chain.\u001b[0m\n"
     ]
    }
   ],
   "source": [
    "# step 5: invoke\n",
    "response = agent_executor.invoke({'input': \"What is the latest news about PSL Match today? and What's the weather condition of Lahore?\"})"
   ]
  },
  {
   "cell_type": "code",
   "execution_count": 37,
   "id": "e8894042",
   "metadata": {},
   "outputs": [
    {
     "name": "stdout",
     "output_type": "stream",
     "text": [
      "{'input': \"What is the latest news about PSL Match today? and What's the weather condition of Lahore?\", 'output': \"Karachi Kings are taking on Multan Sultans while Lahore Qalandars will face off against Quetta Gladiators in today's PSL 2025 matches. The weather condition in Lahore is partly cloudy with a temperature of 25 degrees Celsius.\"}\n"
     ]
    }
   ],
   "source": [
    "print(response)"
   ]
  },
  {
   "cell_type": "code",
   "execution_count": null,
   "id": "4d6068e5",
   "metadata": {},
   "outputs": [],
   "source": []
  }
 ],
 "metadata": {
  "kernelspec": {
   "display_name": "langchain_env",
   "language": "python",
   "name": "python3"
  },
  "language_info": {
   "codemirror_mode": {
    "name": "ipython",
    "version": 3
   },
   "file_extension": ".py",
   "mimetype": "text/x-python",
   "name": "python",
   "nbconvert_exporter": "python",
   "pygments_lexer": "ipython3",
   "version": "3.11.7"
  }
 },
 "nbformat": 4,
 "nbformat_minor": 5
}
